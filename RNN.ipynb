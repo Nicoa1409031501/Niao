{
  "nbformat": 4,
  "nbformat_minor": 0,
  "metadata": {
    "colab": {
      "provenance": [],
      "include_colab_link": true
    },
    "kernelspec": {
      "name": "python3",
      "display_name": "Python 3"
    },
    "language_info": {
      "name": "python"
    },
    "accelerator": "GPU",
    "gpuClass": "standard"
  },
  "cells": [
    {
      "cell_type": "markdown",
      "metadata": {
        "id": "view-in-github",
        "colab_type": "text"
      },
      "source": [
        "<a href=\"https://colab.research.google.com/github/Nicoa1409031501/Niao/blob/main/RNN.ipynb\" target=\"_parent\"><img src=\"https://colab.research.google.com/assets/colab-badge.svg\" alt=\"Open In Colab\"/></a>"
      ]
    },
    {
      "cell_type": "markdown",
      "source": [
        "# Recurrent Neural Network(RNN)範例\n",
        "- 基於惡意程式系統調用(api call)序列預測惡意程式家族\n",
        "\n",
        "## 練習重點\n",
        "- 載入原始資料集並將其切割成 trainset, validset, testset\n",
        "- 資料集輸入特徵預處理\n",
        "- 製作 torch dataset\n",
        "- 定義RNN model\n",
        "- 訓練 model\n",
        "- 測試 model"
      ],
      "metadata": {
        "id": "N1kiMI3VNEks"
      }
    },
    {
      "cell_type": "markdown",
      "source": [
        "## 下載資料集\n",
        "請先利用底下連結下載練習用資料集並解壓縮後放置到google drive上(對應使用colab的google帳號)  \n",
        "[資料集]https://drive.google.com/file/d/1K9NtS_JcvRQnXh5nUxhpIXZaa2Nh4x8t/view?usp=sharing  \n",
        "[惡意程式trace範例]https://drive.google.com/file/d/1phZG6bPq5tvSKAirGfVouVlnLEkxnVFO/view?usp=sharing"
      ],
      "metadata": {
        "id": "gMzWdcg3DuJW"
      }
    },
    {
      "cell_type": "markdown",
      "source": [
        "## Appendix=>Malware behavior trace 範例"
      ],
      "metadata": {
        "id": "jpzcgoZ05DTm"
      }
    },
    {
      "cell_type": "code",
      "source": [
        "# Jcry\n",
        "import json\n",
        "with open('/content/drive/MyDrive/d7e118a3753a132fbedd262fdf4809a76ce121f758eb6c829d9c5de1ffab5a3b.json') as fp:\n",
        "  trace = json.load(fp)"
      ],
      "metadata": {
        "id": "9l9lAVO55gkw"
      },
      "execution_count": null,
      "outputs": []
    },
    {
      "cell_type": "code",
      "source": [
        "# Jcry processtree\n",
        "trace['behavior']['processtree'][1]"
      ],
      "metadata": {
        "colab": {
          "base_uri": "https://localhost:8080/"
        },
        "id": "VSKbw8zI5g_J",
        "outputId": "8d819508-aaf8-4f5c-8f46-402fb2092faa"
      },
      "execution_count": null,
      "outputs": [
        {
          "output_type": "execute_result",
          "data": {
            "text/plain": [
              "{'track': True,\n",
              " 'pid': 2932,\n",
              " 'process_name': 'd7e118a3753a132fbedd262fdf4809a76ce121f758eb6c829d9c5de1ffab5a3b.exe',\n",
              " 'command_line': '\"C:\\\\Users\\\\Baka\\\\AppData\\\\Local\\\\Temp\\\\d7e118a3753a132fbedd262fdf4809a76ce121f758eb6c829d9c5de1ffab5a3b.exe\" ',\n",
              " 'first_seen': 1599493475.686914,\n",
              " 'ppid': 2520,\n",
              " 'children': [{'track': True,\n",
              "   'pid': 1676,\n",
              "   'process_name': 'wscript.exe',\n",
              "   'command_line': '\"C:\\\\Windows\\\\System32\\\\WScript.exe\" \"C:\\\\Users\\\\Baka\\\\AppData\\\\Roaming\\\\Microsoft\\\\Windows\\\\Start Menu\\\\Programs\\\\Startup\\\\msg.vbs\" ',\n",
              "   'first_seen': 1599497832.904499,\n",
              "   'ppid': 2932,\n",
              "   'children': []},\n",
              "  {'track': True,\n",
              "   'pid': 912,\n",
              "   'process_name': 'Enc.exe',\n",
              "   'command_line': '\"C:\\\\Users\\\\Baka\\\\AppData\\\\Roaming\\\\Microsoft\\\\Windows\\\\Start Menu\\\\Programs\\\\Startup\\\\Enc.exe\" ',\n",
              "   'first_seen': 1599497833.029501,\n",
              "   'ppid': 2932,\n",
              "   'children': [{'track': True,\n",
              "     'pid': 3300,\n",
              "     'process_name': 'vssadmin.exe',\n",
              "     'command_line': 'vssadmin delete shadows /all',\n",
              "     'first_seen': 1599497851.225166,\n",
              "     'ppid': 912,\n",
              "     'children': []},\n",
              "    {'track': True,\n",
              "     'pid': 3420,\n",
              "     'process_name': 'cmd.exe',\n",
              "     'command_line': 'cmd.exe /c powershell -WindowStyle Hidden Start-Process Dec.exe -WindowStyle maximized',\n",
              "     'first_seen': 1599497851.588156,\n",
              "     'ppid': 912,\n",
              "     'children': [{'track': True,\n",
              "       'pid': 3480,\n",
              "       'process_name': 'powershell.exe',\n",
              "       'command_line': 'powershell  -WindowStyle Hidden Start-Process Dec.exe -WindowStyle maximized',\n",
              "       'first_seen': 1599497851.896124,\n",
              "       'ppid': 3420,\n",
              "       'children': [{'track': True,\n",
              "         'pid': 3572,\n",
              "         'process_name': 'Dec.exe',\n",
              "         'command_line': '\"C:\\\\Users\\\\Baka\\\\AppData\\\\Roaming\\\\Microsoft\\\\Windows\\\\Start Menu\\\\Programs\\\\Startup\\\\Dec.exe\" ',\n",
              "         'first_seen': 1599497854.591915,\n",
              "         'ppid': 3480,\n",
              "         'children': []}]}]}]}]}"
            ]
          },
          "metadata": {},
          "execution_count": 3
        }
      ]
    },
    {
      "cell_type": "code",
      "source": [
        "# API call 範例\n",
        "trace['behavior']['processes'][1]['calls'][980]"
      ],
      "metadata": {
        "colab": {
          "base_uri": "https://localhost:8080/"
        },
        "id": "Jr8u3zQM97Tt",
        "outputId": "06844aa9-1eb5-476c-871e-55d3d658722f"
      },
      "execution_count": null,
      "outputs": [
        {
          "output_type": "execute_result",
          "data": {
            "text/plain": [
              "{'category': 'file',\n",
              " 'status': 1,\n",
              " 'stacktrace': [],\n",
              " 'api': 'NtCreateFile',\n",
              " 'return_value': 0,\n",
              " 'arguments': {'create_disposition': 5,\n",
              "  'file_handle': '0x0000015c',\n",
              "  'filepath': 'C:\\\\Users\\\\Baka\\\\AppData\\\\Roaming\\\\Microsoft\\\\Windows\\\\Start Menu\\\\Programs\\\\Startup\\\\Dec.exe',\n",
              "  'desired_access': '0x40100080',\n",
              "  'file_attributes': 0,\n",
              "  'filepath_r': 'Dec.exe',\n",
              "  'create_options': 96,\n",
              "  'status_info': 2,\n",
              "  'share_access': 1},\n",
              " 'time': 1599493476.108914,\n",
              " 'tid': 2124,\n",
              " 'flags': {'create_disposition': 'FILE_OVERWRITE_IF',\n",
              "  'desired_access': 'FILE_READ_ATTRIBUTES|SYNCHRONIZE|GENERIC_WRITE',\n",
              "  'create_options': 'FILE_NON_DIRECTORY_FILE|FILE_SYNCHRONOUS_IO_NONALERT',\n",
              "  'file_attributes': '',\n",
              "  'status_info': 'FILE_CREATED',\n",
              "  'share_access': 'FILE_SHARE_READ'}}"
            ]
          },
          "metadata": {},
          "execution_count": 4
        }
      ]
    },
    {
      "cell_type": "code",
      "source": [
        "calls = trace['behavior']['processes'][1]['calls'][1035:1037] + [trace['behavior']['processes'][1]['calls'][5711]]\n",
        "for call in calls:\n",
        "  print(call['api'])\n",
        "  if call['category'] == 'file':\n",
        "    print(call['arguments']['filepath'])\n",
        "  else:\n",
        "    print(call['arguments']['command_line'])"
      ],
      "metadata": {
        "colab": {
          "base_uri": "https://localhost:8080/"
        },
        "id": "_Gm8Bva_9k4c",
        "outputId": "b0f61af3-3eb1-494f-b6b5-39115437913b"
      },
      "execution_count": null,
      "outputs": [
        {
          "output_type": "stream",
          "name": "stdout",
          "text": [
            "GetFileAttributesW\n",
            "C:\\Users\\Baka\\AppData\\Roaming\\Microsoft\\Windows\\Start Menu\\Programs\\Startup\\Enc.exe\n",
            "NtCreateFile\n",
            "C:\\Users\\Baka\\AppData\\Roaming\\Microsoft\\Windows\\Start Menu\\Programs\\Startup\\Enc.exe\n",
            "CreateProcessInternalW\n",
            "\"C:\\Users\\Baka\\AppData\\Roaming\\Microsoft\\Windows\\Start Menu\\Programs\\Startup\\Enc.exe\" \n"
          ]
        }
      ]
    },
    {
      "cell_type": "markdown",
      "source": [
        "## 正文開始"
      ],
      "metadata": {
        "id": "fRFfXABMD6jO"
      }
    },
    {
      "cell_type": "code",
      "source": [
        "import numpy as np\n",
        "import pandas as pd\n",
        "from glob import glob\n",
        "from tqdm import tqdm\n",
        "from random import shuffle\n",
        "\n",
        "import torch\n",
        "import torch.nn as nn\n",
        "from torch.utils.data import Dataset, DataLoader\n",
        "\n",
        "from google.colab import drive\n",
        "drive.mount('/content/drive')"
      ],
      "metadata": {
        "colab": {
          "base_uri": "https://localhost:8080/"
        },
        "id": "HhFTMzwqNevq",
        "outputId": "876a0f96-48a6-456e-83a1-01481d11b5b0"
      },
      "execution_count": null,
      "outputs": [
        {
          "output_type": "stream",
          "name": "stdout",
          "text": [
            "Mounted at /content/drive\n"
          ]
        }
      ]
    },
    {
      "cell_type": "markdown",
      "source": [
        "### 載入原始資料集並將其切割成 trainset, validset, testset"
      ],
      "metadata": {
        "id": "Et5eVvDuNfUz"
      }
    },
    {
      "cell_type": "code",
      "source": [
        "def split_dataset(family2sample):\n",
        "    trainset = []\n",
        "    validset = []\n",
        "    testset = []\n",
        "\n",
        "    for family, samples in family2sample.items():\n",
        "        shuffle(samples)\n",
        "        trainset.extend(samples[:int(len(samples)*0.8)])\n",
        "        validset.extend(samples[int(len(samples)*0.8):int(len(samples)*0.9)])\n",
        "        testset.extend(samples[int(len(samples)*0.9):])\n",
        "    return trainset, validset, testset"
      ],
      "metadata": {
        "id": "bxde2qqFNfwl"
      },
      "execution_count": null,
      "outputs": []
    },
    {
      "cell_type": "code",
      "source": [
        "# preload dataset\n",
        "## 請依據自己存放的檔案位置修改line3,line4的檔案位置\n",
        "trace_path = glob('/content/drive/MyDrive/demo_dataset/trace/*.trace')\n",
        "df_label = pd.read_csv('/content/drive/MyDrive/demo_dataset/label.csv')\n",
        "\n",
        "families = list(df_label['family'].unique())\n",
        "family2sample = {}\n",
        "for f in families:\n",
        "    df_family = df_label[df_label['family']==f].reset_index(drop = True)\n",
        "    family2sample[f] = df_family['sample'].tolist()\n",
        "sample2family = {row['sample']:row['family'] for index, row in df_label.iterrows()}\n",
        "\n",
        "# 將資料集切割成trainset, validset, testset\n",
        "trainset, validset, testset = split_dataset(family2sample)"
      ],
      "metadata": {
        "id": "_Us1nWO0Nfz3"
      },
      "execution_count": null,
      "outputs": []
    },
    {
      "cell_type": "code",
      "source": [
        "families"
      ],
      "metadata": {
        "colab": {
          "base_uri": "https://localhost:8080/"
        },
        "id": "YNAa_3muJMby",
        "outputId": "965412f1-b128-4564-d436-1ec75be63861"
      },
      "execution_count": null,
      "outputs": [
        {
          "output_type": "execute_result",
          "data": {
            "text/plain": [
              "['Emotet', 'Fareit', 'Gandcrab', 'Lokibot', 'Tofsee']"
            ]
          },
          "metadata": {},
          "execution_count": 8
        }
      ]
    },
    {
      "cell_type": "code",
      "source": [
        "with open(trace_path[0]) as fp:\n",
        "  trace = [l.strip() for l in fp.readlines()]\n",
        "trace[:20]"
      ],
      "metadata": {
        "colab": {
          "base_uri": "https://localhost:8080/"
        },
        "id": "IfHSZmWoJN-H",
        "outputId": "3a556d23-130c-4bd7-de8b-df97c53cf562"
      },
      "execution_count": null,
      "outputs": [
        {
          "output_type": "execute_result",
          "data": {
            "text/plain": [
              "['NtDelayExecution',\n",
              " 'NtAllocateVirtualMemory',\n",
              " 'RegOpenKeyExW',\n",
              " 'RegQueryValueExW',\n",
              " 'RegCloseKey',\n",
              " 'NtAllocateVirtualMemory',\n",
              " 'NtAllocateVirtualMemory',\n",
              " 'GetSystemWindowsDirectoryW',\n",
              " 'NtOpenFile',\n",
              " 'NtQueryInformationFile',\n",
              " 'NtClose',\n",
              " 'RegOpenKeyExW',\n",
              " 'RegQueryValueExW',\n",
              " 'RegCloseKey',\n",
              " 'RegOpenKeyExW',\n",
              " 'RegQueryValueExW',\n",
              " 'RegCloseKey',\n",
              " 'LdrGetDllHandle',\n",
              " 'LdrGetProcedureAddress',\n",
              " 'NtFreeVirtualMemory']"
            ]
          },
          "metadata": {},
          "execution_count": 9
        }
      ]
    },
    {
      "cell_type": "markdown",
      "source": [
        "##資料集輸入特徵預處理"
      ],
      "metadata": {
        "id": "bZhwS69HPYML"
      }
    },
    {
      "cell_type": "code",
      "source": [
        "# 整理每筆資料的輸入\n",
        "sample2api = {}\n",
        "for p in tqdm(trace_path):\n",
        "  s = p.split('/')[-1].split('.trace')[0]\n",
        "  with open(p) as fp:\n",
        "    apis = [l.strip() for l in fp]\n",
        "  sample2api[s] = apis\n",
        "\n",
        "all_api = []\n",
        "for s in tqdm(sample2api):\n",
        "  all_api.extend(sample2api[s])\n",
        "all_api = list(set(all_api))\n",
        "\n",
        "idx2api = {i:a for i, a in enumerate(all_api)}\n",
        "api2idx = {a:i for i, a in enumerate(all_api)}\n",
        "idx2label = {i:f for i, f in enumerate(families)}\n",
        "label2idx = {f:i for i, f in enumerate(families)}"
      ],
      "metadata": {
        "colab": {
          "base_uri": "https://localhost:8080/"
        },
        "id": "LWdDcsvMNf20",
        "outputId": "40c42848-01e0-4635-eed7-8977416a22d1"
      },
      "execution_count": null,
      "outputs": [
        {
          "output_type": "stream",
          "name": "stderr",
          "text": [
            "100%|██████████| 4126/4126 [01:36<00:00, 42.97it/s] \n",
            "100%|██████████| 4126/4126 [00:00<00:00, 5459.45it/s]\n"
          ]
        }
      ]
    },
    {
      "cell_type": "markdown",
      "source": [
        "## 製作 torch dataset\n"
      ],
      "metadata": {
        "id": "FsoLtQZdPfgZ"
      }
    },
    {
      "cell_type": "code",
      "source": [
        "def data_processed(dataset, label):\n",
        "    global api2idx\n",
        "    global label2idx\n",
        "\n",
        "    padded_len = 500\n",
        "    processed_dataset = []\n",
        "    for s, apis in tqdm(dataset.items()):\n",
        "        if len(apis) >= padded_len:\n",
        "          input_apis = [api2idx[a] for a in apis[:padded_len]]\n",
        "        else:\n",
        "          input_apis = [api2idx[a] for a in apis] + [244] * (padded_len-len(apis))\n",
        "\n",
        "        input_apis = torch.tensor(input_apis)\n",
        "        processed_dataset.append({\n",
        "            'api': input_apis,\n",
        "            'name': s,\n",
        "            'label': label2idx[label[s]]\n",
        "        })\n",
        "    return processed_dataset"
      ],
      "metadata": {
        "id": "q8UjuDJHNf6L"
      },
      "execution_count": null,
      "outputs": []
    },
    {
      "cell_type": "code",
      "source": [
        "processed_dataset = data_processed(sample2api, sample2family)\n",
        "\n",
        "train_dataset, valid_dataset, test_dataset = [], [], []\n",
        "for data in processed_dataset:\n",
        "    if data['name'] in trainset:\n",
        "        train_dataset.append(data)\n",
        "    elif data['name'] in validset:\n",
        "        valid_dataset.append(data)\n",
        "    elif data['name'] in testset:\n",
        "        test_dataset.append(data)\n",
        "\n",
        "# batch_size=64，一次取64筆資料進行訓練/驗證/測試\n",
        "train_loader = DataLoader(dataset=train_dataset, batch_size=64, shuffle=True)\n",
        "valid_loader = DataLoader(dataset=valid_dataset, batch_size=64, shuffle=True)\n",
        "test_loader = DataLoader(dataset=test_dataset, batch_size=64, shuffle=True)"
      ],
      "metadata": {
        "colab": {
          "base_uri": "https://localhost:8080/"
        },
        "id": "DaXFSZMtNf9N",
        "outputId": "23b2909e-ebbe-4411-fd50-b98c976fd443"
      },
      "execution_count": null,
      "outputs": [
        {
          "output_type": "stream",
          "name": "stderr",
          "text": [
            "100%|██████████| 4126/4126 [00:01<00:00, 2085.38it/s]\n"
          ]
        }
      ]
    },
    {
      "cell_type": "markdown",
      "source": [
        "## 定義 RNN Model"
      ],
      "metadata": {
        "id": "eJOKeRuZNgAc"
      }
    },
    {
      "cell_type": "code",
      "source": [
        "# 定義RNN model\n",
        "class RNN(nn.Module):\n",
        "    def __init__(self, n_vocab, embedding_dim, hidden_size, layers, output_size, use_cuda):\n",
        "        super(RNN, self).__init__()\n",
        "\n",
        "        self.use_cuda = use_cuda\n",
        "        self.hidden_size = hidden_size\n",
        "        self.num_layers = layers\n",
        "        self.embeddings = nn.Embedding(n_vocab+1, embedding_dim, padding_idx = n_vocab)\n",
        "        self.RNN = nn.RNN(embedding_dim, hidden_size, num_layers = self.num_layers, batch_first=True, bidirectional=False)\n",
        "        self.fc = nn.Linear(hidden_size, output_size)\n",
        "\n",
        "    def forward(self, x):\n",
        "        h0 = torch.zeros(self.num_layers, x.size(0), self.hidden_size)\n",
        "        if self.use_cuda:\n",
        "          input = self.embeddings(x.cuda())\n",
        "          h0 = h0.cuda()\n",
        "        # out = (N,L,D∗H), hn = (D∗num_layers,N,H)\n",
        "        out, hn = self.RNN(input, h0)\n",
        "        out = self.fc(out[:, -1, :])\n",
        "        return out"
      ],
      "metadata": {
        "id": "UZ9vqwpjNgDt"
      },
      "execution_count": null,
      "outputs": []
    },
    {
      "cell_type": "markdown",
      "source": [
        "# 訓練 Model"
      ],
      "metadata": {
        "id": "NJe4tH-WaF8k"
      }
    },
    {
      "cell_type": "code",
      "source": [
        "embedding_dim = 100\n",
        "hidden_size = 64\n",
        "n_vocab = len(all_api)\n",
        "output_size = len(families)\n",
        "num_layers = 2\n",
        "use_cuda = True if torch.cuda.is_available() else False\n",
        "\n",
        "model = RNN(n_vocab, embedding_dim, hidden_size, num_layers, output_size, use_cuda)\n",
        "if use_cuda:\n",
        "  model = model.cuda()\n",
        "optimizer = torch.optim.Adam(model.parameters(), lr=0.001)\n",
        "loss_fn = nn.CrossEntropyLoss()\n",
        "\n",
        "epochs = 30\n",
        "for epoch in range(epochs):\n",
        "  model.train()\n",
        "  train_losses = []\n",
        "  for i, data in enumerate(train_loader):\n",
        "    outputs = model(data['api'])\n",
        "    labels = data['label']\n",
        "    if use_cuda:\n",
        "      labels = labels.cuda()\n",
        "    loss = loss_fn(outputs, labels)\n",
        "\n",
        "    optimizer.zero_grad()\n",
        "    loss.backward()\n",
        "    optimizer.step()\n",
        "\n",
        "    train_losses.append(loss.item())\n",
        "\n",
        "  model.eval()\n",
        "  correct = 0\n",
        "  total = 0\n",
        "  valid_losses = []\n",
        "  with torch.no_grad():\n",
        "    for i, data in enumerate(valid_loader):\n",
        "      outputs = model(data['api'])\n",
        "      labels = data['label']\n",
        "      if use_cuda:\n",
        "        labels = labels.cuda()\n",
        "      loss = loss_fn(outputs, labels)\n",
        "\n",
        "      _, predicted = torch.max(outputs.data, 1)\n",
        "      correct += (predicted == labels).sum().item()\n",
        "      total += labels.size(0)\n",
        "\n",
        "      valid_losses.append(loss.item())\n",
        "  print(f'epoch:{epoch} | train loss:{np.mean(train_losses):.4f} | valid loss:{np.mean(valid_losses):.4f} | valid acc:{100*correct/total:.3f}')"
      ],
      "metadata": {
        "id": "XwVVcOKuNgG7",
        "colab": {
          "base_uri": "https://localhost:8080/"
        },
        "outputId": "a405166a-1e5c-4e00-cfa9-c691a2225c58"
      },
      "execution_count": null,
      "outputs": [
        {
          "output_type": "stream",
          "name": "stdout",
          "text": [
            "epoch:0 | train loss:0.6725 | valid loss:0.3845 | valid acc:87.651\n",
            "epoch:1 | train loss:0.3777 | valid loss:0.3132 | valid acc:89.588\n",
            "epoch:2 | train loss:0.2955 | valid loss:0.2999 | valid acc:89.104\n",
            "epoch:3 | train loss:0.2999 | valid loss:0.3135 | valid acc:90.073\n",
            "epoch:4 | train loss:0.2831 | valid loss:0.3091 | valid acc:89.831\n",
            "epoch:5 | train loss:0.2739 | valid loss:0.2921 | valid acc:90.315\n",
            "epoch:6 | train loss:0.2449 | valid loss:0.3506 | valid acc:90.799\n",
            "epoch:7 | train loss:0.5209 | valid loss:0.3669 | valid acc:89.346\n",
            "epoch:8 | train loss:0.3015 | valid loss:0.3188 | valid acc:90.073\n",
            "epoch:9 | train loss:0.2728 | valid loss:0.3105 | valid acc:91.525\n",
            "epoch:10 | train loss:0.2524 | valid loss:0.3107 | valid acc:90.557\n",
            "epoch:11 | train loss:0.2481 | valid loss:0.2917 | valid acc:91.041\n",
            "epoch:12 | train loss:0.2347 | valid loss:0.3274 | valid acc:92.010\n",
            "epoch:13 | train loss:0.2894 | valid loss:0.2917 | valid acc:91.283\n",
            "epoch:14 | train loss:0.2425 | valid loss:0.3103 | valid acc:91.283\n",
            "epoch:15 | train loss:0.2287 | valid loss:0.3116 | valid acc:91.768\n",
            "epoch:16 | train loss:0.2789 | valid loss:0.3458 | valid acc:91.041\n",
            "epoch:17 | train loss:0.2647 | valid loss:0.2973 | valid acc:91.525\n",
            "epoch:18 | train loss:0.2469 | valid loss:0.2961 | valid acc:91.525\n",
            "epoch:19 | train loss:0.2490 | valid loss:0.3119 | valid acc:91.525\n",
            "epoch:20 | train loss:0.2304 | valid loss:0.2936 | valid acc:91.525\n",
            "epoch:21 | train loss:0.2189 | valid loss:0.3108 | valid acc:91.768\n",
            "epoch:22 | train loss:0.2564 | valid loss:0.3126 | valid acc:91.041\n",
            "epoch:23 | train loss:0.3024 | valid loss:0.3376 | valid acc:90.799\n",
            "epoch:24 | train loss:0.4495 | valid loss:0.5689 | valid acc:86.199\n",
            "epoch:25 | train loss:0.4081 | valid loss:0.2709 | valid acc:91.041\n",
            "epoch:26 | train loss:0.2335 | valid loss:0.2705 | valid acc:91.041\n",
            "epoch:27 | train loss:0.2154 | valid loss:0.3361 | valid acc:92.010\n",
            "epoch:28 | train loss:0.2097 | valid loss:0.3043 | valid acc:91.041\n",
            "epoch:29 | train loss:0.2246 | valid loss:0.2856 | valid acc:90.799\n"
          ]
        }
      ]
    },
    {
      "cell_type": "markdown",
      "source": [
        "# 測試 Model"
      ],
      "metadata": {
        "id": "RSUpWsMTaPlW"
      }
    },
    {
      "cell_type": "code",
      "source": [
        "# predict testset\n",
        "model.eval()\n",
        "correct = 0\n",
        "total = 0\n",
        "with torch.no_grad():\n",
        "  all_predict = []\n",
        "  all_label = []\n",
        "  for i, data in enumerate(test_loader):\n",
        "    outputs = model(data['api'])\n",
        "    labels = data['label']\n",
        "    if use_cuda:\n",
        "      labels = labels.cuda()\n",
        "\n",
        "    _, predicted = torch.max(outputs.data, 1)\n",
        "    correct += (predicted == labels).sum().item()\n",
        "    total += labels.size(0)\n",
        "\n",
        "    all_predict.extend(predicted.tolist())\n",
        "    all_label.extend(labels.tolist())\n",
        "\n",
        "print(f'test acc:{100*correct/total:.3f}')"
      ],
      "metadata": {
        "id": "Wd2AWN4sNgKk",
        "colab": {
          "base_uri": "https://localhost:8080/"
        },
        "outputId": "4fdb73e2-b16b-4f9d-9cce-37050380a45f"
      },
      "execution_count": null,
      "outputs": [
        {
          "output_type": "stream",
          "name": "stdout",
          "text": [
            "test acc:89.639\n"
          ]
        }
      ]
    },
    {
      "cell_type": "code",
      "source": [
        "from sklearn.metrics import confusion_matrix\n",
        "confusion_matrix(all_label, all_predict)"
      ],
      "metadata": {
        "id": "cUsZNyThNgNu",
        "colab": {
          "base_uri": "https://localhost:8080/"
        },
        "outputId": "9520c03f-8b62-4e88-d662-d0acccc95b17"
      },
      "execution_count": null,
      "outputs": [
        {
          "output_type": "execute_result",
          "data": {
            "text/plain": [
              "array([[163,   0,   3,   1,   1],\n",
              "       [  7,  63,   2,   5,   0],\n",
              "       [  4,   0, 112,   0,   0],\n",
              "       [  1,  18,   0,  17,   0],\n",
              "       [  1,   0,   0,   0,  17]])"
            ]
          },
          "metadata": {},
          "execution_count": 16
        }
      ]
    }
  ]
}